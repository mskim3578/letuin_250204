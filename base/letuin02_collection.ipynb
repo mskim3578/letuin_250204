{
 "cells": [
  {
   "cell_type": "code",
   "execution_count": null,
   "metadata": {},
   "outputs": [
    {
     "name": "stdout",
     "output_type": "stream",
     "text": [
      "lee = 100\n",
      "hong = 70\n",
      "kim = 90\n",
      "lee = 100\n",
      "hong = 70\n",
      "kim = 90\n"
     ]
    },
    {
     "ename": "KeyError",
     "evalue": "100",
     "output_type": "error",
     "traceback": [
      "\u001b[31m---------------------------------------------------------------------------\u001b[39m",
      "\u001b[31mKeyError\u001b[39m                                  Traceback (most recent call last)",
      "\u001b[36mCell\u001b[39m\u001b[36m \u001b[39m\u001b[32mIn[2]\u001b[39m\u001b[32m, line 13\u001b[39m\n\u001b[32m      9\u001b[39m     \u001b[38;5;28mprint\u001b[39m(n,\u001b[33m\"\u001b[39m\u001b[33m=\u001b[39m\u001b[33m\"\u001b[39m,score_dic[n]) \n\u001b[32m     11\u001b[39m \u001b[38;5;28;01mfor\u001b[39;00m n \u001b[38;5;129;01min\u001b[39;00m score_dic.values() :\n\u001b[32m     12\u001b[39m     \u001b[38;5;66;03m#n : key값\u001b[39;00m\n\u001b[32m---> \u001b[39m\u001b[32m13\u001b[39m     \u001b[38;5;28mprint\u001b[39m(n,\u001b[33m\"\u001b[39m\u001b[33m=\u001b[39m\u001b[33m\"\u001b[39m,\u001b[43mscore_dic\u001b[49m\u001b[43m[\u001b[49m\u001b[43mn\u001b[49m\u001b[43m]\u001b[49m) \n\u001b[32m     15\u001b[39m \u001b[38;5;28;01mfor\u001b[39;00m n,s \u001b[38;5;129;01min\u001b[39;00m score_dic.items() :\n\u001b[32m     16\u001b[39m     \u001b[38;5;66;03m#n:키값\u001b[39;00m\n\u001b[32m     17\u001b[39m     \u001b[38;5;66;03m#s:value값\u001b[39;00m\n\u001b[32m     18\u001b[39m     \u001b[38;5;28mprint\u001b[39m(n,\u001b[33m\"\u001b[39m\u001b[33m=\u001b[39m\u001b[33m\"\u001b[39m,s) \u001b[38;5;66;03m#kim = 90\u001b[39;00m\n",
      "\u001b[31mKeyError\u001b[39m: 100"
     ]
    }
   ],
   "source": [
    "###-----dictionary 객체들을 반복문으로 조회\n",
    "score_dic = {'lee':100,'hong':70,'kim':90}\n",
    "for n in score_dic :\n",
    "    #n : key값\n",
    "    print(n,\"=\",score_dic[n])\n",
    "\n",
    "for n in score_dic.keys() :\n",
    "    #n : key값\n",
    "    print(n,\"=\",score_dic[n]) \n",
    "\n",
    "for n in score_dic.values() :\n",
    "    #n : key값\n",
    "    print(n,\"=\",n) \n",
    "\n",
    "for n,s in score_dic.items() :\n",
    "    #n:키값\n",
    "    #s:value값\n",
    "    print(n,\"=\",s) #kim = 90"
   ]
  },
  {
   "cell_type": "code",
   "execution_count": 1,
   "metadata": {},
   "outputs": [
    {
     "name": "stdout",
     "output_type": "stream",
     "text": [
      "lee = 100\n",
      "hong = 70\n",
      "kim = 90\n"
     ]
    }
   ],
   "source": [
    "score_dic = {'lee':100,'hong':70,'kim':90}\n",
    "for n in score_dic :\n",
    "    #n : key값\n",
    "    print(n,\"=\",score_dic[n])\n"
   ]
  }
 ],
 "metadata": {
  "kernelspec": {
   "display_name": "Python 3",
   "language": "python",
   "name": "python3"
  },
  "language_info": {
   "codemirror_mode": {
    "name": "ipython",
    "version": 3
   },
   "file_extension": ".py",
   "mimetype": "text/x-python",
   "name": "python",
   "nbconvert_exporter": "python",
   "pygments_lexer": "ipython3",
   "version": "3.12.9"
  }
 },
 "nbformat": 4,
 "nbformat_minor": 2
}
